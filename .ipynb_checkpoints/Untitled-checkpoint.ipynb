{
 "cells": [
  {
   "cell_type": "code",
   "execution_count": 12,
   "id": "2a49bc7b",
   "metadata": {},
   "outputs": [],
   "source": [
    "import numpy as np\n",
    "from sklearn import datasets\n",
    "from sklearn.model_selection import train_test_split\n",
    "from sklearn.preprocessing import StandardScaler\n",
    "from sklearn.linear_model import LogisticRegression\n",
    "from sklearn.metrics import accuracy_score, classification_report\n",
    "import pickle"
   ]
  },
  {
   "cell_type": "code",
   "execution_count": 1,
   "id": "22b5ed58",
   "metadata": {},
   "outputs": [],
   "source": [
    "import pandas as pd"
   ]
  },
  {
   "cell_type": "code",
   "execution_count": 2,
   "id": "daa1f302",
   "metadata": {},
   "outputs": [],
   "source": [
    "dataset = pd.read_csv(\"iris_dataset.csv\")"
   ]
  },
  {
   "cell_type": "code",
   "execution_count": 3,
   "id": "fd924c7e",
   "metadata": {},
   "outputs": [
    {
     "data": {
      "text/html": [
       "<div>\n",
       "<style scoped>\n",
       "    .dataframe tbody tr th:only-of-type {\n",
       "        vertical-align: middle;\n",
       "    }\n",
       "\n",
       "    .dataframe tbody tr th {\n",
       "        vertical-align: top;\n",
       "    }\n",
       "\n",
       "    .dataframe thead th {\n",
       "        text-align: right;\n",
       "    }\n",
       "</style>\n",
       "<table border=\"1\" class=\"dataframe\">\n",
       "  <thead>\n",
       "    <tr style=\"text-align: right;\">\n",
       "      <th></th>\n",
       "      <th>Id</th>\n",
       "      <th>SepalLengthCm</th>\n",
       "      <th>SepalWidthCm</th>\n",
       "      <th>PetalLengthCm</th>\n",
       "      <th>PetalWidthCm</th>\n",
       "      <th>Species</th>\n",
       "    </tr>\n",
       "  </thead>\n",
       "  <tbody>\n",
       "    <tr>\n",
       "      <th>0</th>\n",
       "      <td>1</td>\n",
       "      <td>5.1</td>\n",
       "      <td>3.5</td>\n",
       "      <td>1.4</td>\n",
       "      <td>0.2</td>\n",
       "      <td>Iris-setosa</td>\n",
       "    </tr>\n",
       "    <tr>\n",
       "      <th>1</th>\n",
       "      <td>2</td>\n",
       "      <td>4.9</td>\n",
       "      <td>3.0</td>\n",
       "      <td>1.4</td>\n",
       "      <td>0.2</td>\n",
       "      <td>Iris-setosa</td>\n",
       "    </tr>\n",
       "    <tr>\n",
       "      <th>2</th>\n",
       "      <td>3</td>\n",
       "      <td>4.7</td>\n",
       "      <td>3.2</td>\n",
       "      <td>1.3</td>\n",
       "      <td>0.2</td>\n",
       "      <td>Iris-setosa</td>\n",
       "    </tr>\n",
       "    <tr>\n",
       "      <th>3</th>\n",
       "      <td>4</td>\n",
       "      <td>4.6</td>\n",
       "      <td>3.1</td>\n",
       "      <td>1.5</td>\n",
       "      <td>0.2</td>\n",
       "      <td>Iris-setosa</td>\n",
       "    </tr>\n",
       "    <tr>\n",
       "      <th>4</th>\n",
       "      <td>5</td>\n",
       "      <td>5.0</td>\n",
       "      <td>3.6</td>\n",
       "      <td>1.4</td>\n",
       "      <td>0.2</td>\n",
       "      <td>Iris-setosa</td>\n",
       "    </tr>\n",
       "    <tr>\n",
       "      <th>...</th>\n",
       "      <td>...</td>\n",
       "      <td>...</td>\n",
       "      <td>...</td>\n",
       "      <td>...</td>\n",
       "      <td>...</td>\n",
       "      <td>...</td>\n",
       "    </tr>\n",
       "    <tr>\n",
       "      <th>145</th>\n",
       "      <td>146</td>\n",
       "      <td>6.7</td>\n",
       "      <td>3.0</td>\n",
       "      <td>5.2</td>\n",
       "      <td>2.3</td>\n",
       "      <td>Iris-virginica</td>\n",
       "    </tr>\n",
       "    <tr>\n",
       "      <th>146</th>\n",
       "      <td>147</td>\n",
       "      <td>6.3</td>\n",
       "      <td>2.5</td>\n",
       "      <td>5.0</td>\n",
       "      <td>1.9</td>\n",
       "      <td>Iris-virginica</td>\n",
       "    </tr>\n",
       "    <tr>\n",
       "      <th>147</th>\n",
       "      <td>148</td>\n",
       "      <td>6.5</td>\n",
       "      <td>3.0</td>\n",
       "      <td>5.2</td>\n",
       "      <td>2.0</td>\n",
       "      <td>Iris-virginica</td>\n",
       "    </tr>\n",
       "    <tr>\n",
       "      <th>148</th>\n",
       "      <td>149</td>\n",
       "      <td>6.2</td>\n",
       "      <td>3.4</td>\n",
       "      <td>5.4</td>\n",
       "      <td>2.3</td>\n",
       "      <td>Iris-virginica</td>\n",
       "    </tr>\n",
       "    <tr>\n",
       "      <th>149</th>\n",
       "      <td>150</td>\n",
       "      <td>5.9</td>\n",
       "      <td>3.0</td>\n",
       "      <td>5.1</td>\n",
       "      <td>1.8</td>\n",
       "      <td>Iris-virginica</td>\n",
       "    </tr>\n",
       "  </tbody>\n",
       "</table>\n",
       "<p>150 rows × 6 columns</p>\n",
       "</div>"
      ],
      "text/plain": [
       "      Id  SepalLengthCm  SepalWidthCm  PetalLengthCm  PetalWidthCm  \\\n",
       "0      1            5.1           3.5            1.4           0.2   \n",
       "1      2            4.9           3.0            1.4           0.2   \n",
       "2      3            4.7           3.2            1.3           0.2   \n",
       "3      4            4.6           3.1            1.5           0.2   \n",
       "4      5            5.0           3.6            1.4           0.2   \n",
       "..   ...            ...           ...            ...           ...   \n",
       "145  146            6.7           3.0            5.2           2.3   \n",
       "146  147            6.3           2.5            5.0           1.9   \n",
       "147  148            6.5           3.0            5.2           2.0   \n",
       "148  149            6.2           3.4            5.4           2.3   \n",
       "149  150            5.9           3.0            5.1           1.8   \n",
       "\n",
       "            Species  \n",
       "0       Iris-setosa  \n",
       "1       Iris-setosa  \n",
       "2       Iris-setosa  \n",
       "3       Iris-setosa  \n",
       "4       Iris-setosa  \n",
       "..              ...  \n",
       "145  Iris-virginica  \n",
       "146  Iris-virginica  \n",
       "147  Iris-virginica  \n",
       "148  Iris-virginica  \n",
       "149  Iris-virginica  \n",
       "\n",
       "[150 rows x 6 columns]"
      ]
     },
     "execution_count": 3,
     "metadata": {},
     "output_type": "execute_result"
    }
   ],
   "source": [
    "dataset"
   ]
  },
  {
   "cell_type": "code",
   "execution_count": 2,
   "id": "b6fbdca3",
   "metadata": {},
   "outputs": [],
   "source": [
    "iris = datasets.load_iris()\n",
    "X = iris.data\n",
    "y = iris.target"
   ]
  },
  {
   "cell_type": "code",
   "execution_count": 3,
   "id": "804b48bc",
   "metadata": {},
   "outputs": [],
   "source": [
    "X_train, X_test, y_train, y_test = train_test_split(X, y, test_size=0.2, random_state=42)"
   ]
  },
  {
   "cell_type": "code",
   "execution_count": 4,
   "id": "d1c9c5b3",
   "metadata": {},
   "outputs": [],
   "source": [
    "scaler = StandardScaler()\n",
    "X_train = scaler.fit_transform(X_train)\n",
    "X_test = scaler.transform(X_test)"
   ]
  },
  {
   "cell_type": "code",
   "execution_count": 5,
   "id": "ea09a8cb",
   "metadata": {},
   "outputs": [],
   "source": [
    "model = LogisticRegression(multi_class='auto', solver='lbfgs', max_iter=1000)"
   ]
  },
  {
   "cell_type": "code",
   "execution_count": 6,
   "id": "a12f51b5",
   "metadata": {},
   "outputs": [
    {
     "data": {
      "text/html": [
       "<style>#sk-container-id-1 {color: black;}#sk-container-id-1 pre{padding: 0;}#sk-container-id-1 div.sk-toggleable {background-color: white;}#sk-container-id-1 label.sk-toggleable__label {cursor: pointer;display: block;width: 100%;margin-bottom: 0;padding: 0.3em;box-sizing: border-box;text-align: center;}#sk-container-id-1 label.sk-toggleable__label-arrow:before {content: \"▸\";float: left;margin-right: 0.25em;color: #696969;}#sk-container-id-1 label.sk-toggleable__label-arrow:hover:before {color: black;}#sk-container-id-1 div.sk-estimator:hover label.sk-toggleable__label-arrow:before {color: black;}#sk-container-id-1 div.sk-toggleable__content {max-height: 0;max-width: 0;overflow: hidden;text-align: left;background-color: #f0f8ff;}#sk-container-id-1 div.sk-toggleable__content pre {margin: 0.2em;color: black;border-radius: 0.25em;background-color: #f0f8ff;}#sk-container-id-1 input.sk-toggleable__control:checked~div.sk-toggleable__content {max-height: 200px;max-width: 100%;overflow: auto;}#sk-container-id-1 input.sk-toggleable__control:checked~label.sk-toggleable__label-arrow:before {content: \"▾\";}#sk-container-id-1 div.sk-estimator input.sk-toggleable__control:checked~label.sk-toggleable__label {background-color: #d4ebff;}#sk-container-id-1 div.sk-label input.sk-toggleable__control:checked~label.sk-toggleable__label {background-color: #d4ebff;}#sk-container-id-1 input.sk-hidden--visually {border: 0;clip: rect(1px 1px 1px 1px);clip: rect(1px, 1px, 1px, 1px);height: 1px;margin: -1px;overflow: hidden;padding: 0;position: absolute;width: 1px;}#sk-container-id-1 div.sk-estimator {font-family: monospace;background-color: #f0f8ff;border: 1px dotted black;border-radius: 0.25em;box-sizing: border-box;margin-bottom: 0.5em;}#sk-container-id-1 div.sk-estimator:hover {background-color: #d4ebff;}#sk-container-id-1 div.sk-parallel-item::after {content: \"\";width: 100%;border-bottom: 1px solid gray;flex-grow: 1;}#sk-container-id-1 div.sk-label:hover label.sk-toggleable__label {background-color: #d4ebff;}#sk-container-id-1 div.sk-serial::before {content: \"\";position: absolute;border-left: 1px solid gray;box-sizing: border-box;top: 0;bottom: 0;left: 50%;z-index: 0;}#sk-container-id-1 div.sk-serial {display: flex;flex-direction: column;align-items: center;background-color: white;padding-right: 0.2em;padding-left: 0.2em;position: relative;}#sk-container-id-1 div.sk-item {position: relative;z-index: 1;}#sk-container-id-1 div.sk-parallel {display: flex;align-items: stretch;justify-content: center;background-color: white;position: relative;}#sk-container-id-1 div.sk-item::before, #sk-container-id-1 div.sk-parallel-item::before {content: \"\";position: absolute;border-left: 1px solid gray;box-sizing: border-box;top: 0;bottom: 0;left: 50%;z-index: -1;}#sk-container-id-1 div.sk-parallel-item {display: flex;flex-direction: column;z-index: 1;position: relative;background-color: white;}#sk-container-id-1 div.sk-parallel-item:first-child::after {align-self: flex-end;width: 50%;}#sk-container-id-1 div.sk-parallel-item:last-child::after {align-self: flex-start;width: 50%;}#sk-container-id-1 div.sk-parallel-item:only-child::after {width: 0;}#sk-container-id-1 div.sk-dashed-wrapped {border: 1px dashed gray;margin: 0 0.4em 0.5em 0.4em;box-sizing: border-box;padding-bottom: 0.4em;background-color: white;}#sk-container-id-1 div.sk-label label {font-family: monospace;font-weight: bold;display: inline-block;line-height: 1.2em;}#sk-container-id-1 div.sk-label-container {text-align: center;}#sk-container-id-1 div.sk-container {/* jupyter's `normalize.less` sets `[hidden] { display: none; }` but bootstrap.min.css set `[hidden] { display: none !important; }` so we also need the `!important` here to be able to override the default hidden behavior on the sphinx rendered scikit-learn.org. See: https://github.com/scikit-learn/scikit-learn/issues/21755 */display: inline-block !important;position: relative;}#sk-container-id-1 div.sk-text-repr-fallback {display: none;}</style><div id=\"sk-container-id-1\" class=\"sk-top-container\"><div class=\"sk-text-repr-fallback\"><pre>LogisticRegression(max_iter=1000)</pre><b>In a Jupyter environment, please rerun this cell to show the HTML representation or trust the notebook. <br />On GitHub, the HTML representation is unable to render, please try loading this page with nbviewer.org.</b></div><div class=\"sk-container\" hidden><div class=\"sk-item\"><div class=\"sk-estimator sk-toggleable\"><input class=\"sk-toggleable__control sk-hidden--visually\" id=\"sk-estimator-id-1\" type=\"checkbox\" checked><label for=\"sk-estimator-id-1\" class=\"sk-toggleable__label sk-toggleable__label-arrow\">LogisticRegression</label><div class=\"sk-toggleable__content\"><pre>LogisticRegression(max_iter=1000)</pre></div></div></div></div></div>"
      ],
      "text/plain": [
       "LogisticRegression(max_iter=1000)"
      ]
     },
     "execution_count": 6,
     "metadata": {},
     "output_type": "execute_result"
    }
   ],
   "source": [
    "model.fit(X_train, y_train)"
   ]
  },
  {
   "cell_type": "code",
   "execution_count": 7,
   "id": "9f9638e4",
   "metadata": {},
   "outputs": [],
   "source": [
    "y_pred = model.predict(X_test)"
   ]
  },
  {
   "cell_type": "code",
   "execution_count": 11,
   "id": "597c9032",
   "metadata": {},
   "outputs": [
    {
     "data": {
      "text/plain": [
       "array([2])"
      ]
     },
     "execution_count": 11,
     "metadata": {},
     "output_type": "execute_result"
    }
   ],
   "source": [
    "model.predict([[3,2,1,4]])"
   ]
  },
  {
   "cell_type": "code",
   "execution_count": 13,
   "id": "bbff5ad8",
   "metadata": {},
   "outputs": [],
   "source": [
    "with open('iris_classifier.pkl', 'wb') as model_file:\n",
    "    pickle.dump(model, model_file)"
   ]
  },
  {
   "cell_type": "code",
   "execution_count": 24,
   "id": "a2ca5ca4",
   "metadata": {},
   "outputs": [
    {
     "name": "stdout",
     "output_type": "stream",
     "text": [
      "python 2.31.0\n"
     ]
    }
   ],
   "source": [
    "library_name = 'python'\n",
    "library_version = requests.__version__\n",
    "print(library_name,library_version)"
   ]
  },
  {
   "cell_type": "code",
   "execution_count": 32,
   "id": "3ff3032e",
   "metadata": {},
   "outputs": [
    {
     "name": "stdout",
     "output_type": "stream",
     "text": [
      "3.0.0\n"
     ]
    },
    {
     "name": "stderr",
     "output_type": "stream",
     "text": [
      "C:\\Users\\ReeveChaitanya\\AppData\\Local\\Temp\\ipykernel_16224\\3294412508.py:2: DeprecationWarning: The '__version__' attribute is deprecated and will be removed in Flask 3.1. Use feature detection or 'importlib.metadata.version(\"flask\")' instead.\n",
      "  print(flask.__version__)\n"
     ]
    }
   ],
   "source": [
    "import flask\n",
    "print(flask.__version__)"
   ]
  },
  {
   "cell_type": "code",
   "execution_count": 28,
   "id": "97635676",
   "metadata": {},
   "outputs": [],
   "source": [
    "import sklearn"
   ]
  },
  {
   "cell_type": "code",
   "execution_count": 36,
   "id": "090bc7cb",
   "metadata": {},
   "outputs": [],
   "source": [
    "import pickle\n",
    "\n",
    "# Get the version of the pickle module\n",
    "pickle_version = pickle.format_version\n",
    "\n"
   ]
  },
  {
   "cell_type": "code",
   "execution_count": 37,
   "id": "e39c212b",
   "metadata": {},
   "outputs": [
    {
     "name": "stdout",
     "output_type": "stream",
     "text": [
      "4.0\n"
     ]
    }
   ],
   "source": [
    "print(pickle_version)"
   ]
  },
  {
   "cell_type": "code",
   "execution_count": 38,
   "id": "7f260550",
   "metadata": {},
   "outputs": [
    {
     "ename": "AttributeError",
     "evalue": "module 'pickle' has no attribute '__version__'",
     "output_type": "error",
     "traceback": [
      "\u001b[1;31m---------------------------------------------------------------------------\u001b[0m",
      "\u001b[1;31mAttributeError\u001b[0m                            Traceback (most recent call last)",
      "Cell \u001b[1;32mIn[38], line 1\u001b[0m\n\u001b[1;32m----> 1\u001b[0m \u001b[43mpickle\u001b[49m\u001b[38;5;241;43m.\u001b[39;49m\u001b[43m__version__\u001b[49m\n",
      "\u001b[1;31mAttributeError\u001b[0m: module 'pickle' has no attribute '__version__'"
     ]
    }
   ],
   "source": [
    "pickle.__version__"
   ]
  },
  {
   "cell_type": "code",
   "execution_count": 39,
   "id": "ed5f161d",
   "metadata": {},
   "outputs": [
    {
     "name": "stderr",
     "output_type": "stream",
     "text": [
      "WARNING: Ignoring invalid distribution - (c:\\users\\reevechaitanya\\appdata\\local\\anaconda3\\envs\\celebaltech\\lib\\site-packages)\n",
      "WARNING: Ignoring invalid distribution -ymupdf (c:\\users\\reevechaitanya\\appdata\\local\\anaconda3\\envs\\celebaltech\\lib\\site-packages)\n",
      "WARNING: Package(s) not found: pickle\n"
     ]
    }
   ],
   "source": [
    "!pip show pickle"
   ]
  },
  {
   "cell_type": "code",
   "execution_count": 40,
   "id": "63042b48",
   "metadata": {},
   "outputs": [
    {
     "name": "stdout",
     "output_type": "stream",
     "text": [
      "Package                      Version"
     ]
    },
    {
     "name": "stderr",
     "output_type": "stream",
     "text": [
      "WARNING: Ignoring invalid distribution - (c:\\users\\reevechaitanya\\appdata\\local\\anaconda3\\envs\\celebaltech\\lib\\site-packages)\n",
      "WARNING: Ignoring invalid distribution -ymupdf (c:\\users\\reevechaitanya\\appdata\\local\\anaconda3\\envs\\celebaltech\\lib\\site-packages)\n"
     ]
    },
    {
     "name": "stdout",
     "output_type": "stream",
     "text": [
      "\n",
      "---------------------------- ------------\n",
      "absl-py                      1.4.0\n",
      "adal                         1.2.7\n",
      "aiohttp                      3.8.4\n",
      "aiosignal                    1.3.1\n",
      "anyio                        3.5.0\n",
      "argcomplete                  2.1.2\n",
      "argon2-cffi                  21.3.0\n",
      "argon2-cffi-bindings         21.2.0\n",
      "arrow                        1.2.3\n",
      "asttokens                    2.0.5\n",
      "astunparse                   1.6.3\n",
      "async-timeout                4.0.2\n",
      "asyncio                      3.4.3\n",
      "attrs                        22.1.0\n",
      "azure-ai-ml                  1.11.1\n",
      "azure-ai-textanalytics       5.3.0\n",
      "azure-common                 1.1.28\n",
      "azure-core                   1.29.2\n",
      "azure-graphrbac              0.61.1\n",
      "azure-identity               1.14.1\n",
      "azure-mgmt-authorization     3.0.0\n",
      "azure-mgmt-containerregistry 10.1.0\n",
      "azure-mgmt-core              1.4.0\n",
      "azure-mgmt-keyvault          10.2.3\n",
      "azure-mgmt-resource          22.0.0\n",
      "azure-mgmt-storage           21.0.0\n",
      "azure-storage-blob           12.18.3\n",
      "azure-storage-file-datalake  12.13.2\n",
      "azure-storage-file-share     12.14.2\n",
      "azureml-core                 1.52.0\n",
      "azureml-mlflow               1.53.0\n",
      "backcall                     0.2.0\n",
      "backoff                      2.2.1\n",
      "backports.tempfile           1.0\n",
      "backports.weakref            1.0.post1\n",
      "bcrypt                       4.0.1\n",
      "beautifulsoup4               4.12.2\n",
      "bleach                       4.1.0\n",
      "blinker                      1.6.3\n",
      "branca                       0.6.0\n",
      "cachetools                   5.3.1\n",
      "certifi                      2023.5.7\n",
      "cffi                         1.15.1\n",
      "charset-normalizer           3.2.0\n",
      "chroma-hnswlib               0.7.1\n",
      "chromadb                     0.4.0\n",
      "click                        8.1.4\n",
      "cloudpickle                  2.2.1\n",
      "colorama                     0.4.6\n",
      "coloredlogs                  15.0.1\n",
      "comm                         0.1.2\n",
      "contextlib2                  21.6.0\n",
      "contourpy                    1.1.0\n",
      "cryptography                 41.0.3\n",
      "cycler                       0.11.0\n",
      "databricks-cli               0.18.0\n",
      "dataclasses-json             0.5.12\n",
      "debugpy                      1.5.1\n",
      "decorator                    5.1.1\n",
      "defusedxml                   0.7.1\n",
      "docker                       6.1.3\n",
      "docx2pdf                     0.1.8\n",
      "entrypoints                  0.4\n",
      "et-xmlfile                   1.1.0\n",
      "executing                    0.8.3\n",
      "fastapi                      0.99.1\n",
      "fastjsonschema               2.16.2\n",
      "Flask                        3.0.0\n",
      "Flask-Cors                   4.0.0\n",
      "flask-talisman               1.1.0\n",
      "flatbuffers                  23.5.26\n",
      "folium                       0.14.0\n",
      "fonttools                    4.40.0\n",
      "fqdn                         1.5.1\n",
      "frozenlist                   1.3.3\n",
      "fsspec                       2023.6.0\n",
      "gast                         0.4.0\n",
      "gensim                       4.3.1\n",
      "gitdb                        4.0.11\n",
      "GitPython                    3.1.40\n",
      "google-api-core              2.12.0\n",
      "google-auth                  2.21.0\n",
      "google-auth-oauthlib         1.0.0\n",
      "google-pasta                 0.2.0\n",
      "googleapis-common-protos     1.61.0\n",
      "greenlet                     2.0.2\n",
      "grpcio                       1.56.0\n",
      "h11                          0.14.0\n",
      "h5py                         3.9.0\n",
      "httptools                    0.6.0\n",
      "humanfriendly                10.0\n",
      "idna                         3.4\n",
      "importlib-metadata           6.8.0\n",
      "importlib-resources          6.0.0\n",
      "ipykernel                    6.19.2\n",
      "ipython                      8.12.0\n",
      "ipython-genutils             0.2.0\n",
      "isodate                      0.6.1\n",
      "isoduration                  20.11.0\n",
      "itsdangerous                 2.1.2\n",
      "jedi                         0.18.1\n",
      "jeepney                      0.8.0\n",
      "Jinja2                       3.1.2\n",
      "jmespath                     1.0.1\n",
      "joblib                       1.3.1\n",
      "jsonpickle                   3.0.2\n",
      "jsonpointer                  2.4\n",
      "jsonschema                   4.17.3\n",
      "jupyter_client               8.1.0\n",
      "jupyter_core                 5.3.0\n",
      "jupyter-events               0.6.3\n",
      "jupyter_server               2.5.0\n",
      "jupyter_server_terminals     0.4.4\n",
      "jupyterlab-pygments          0.1.2\n",
      "jupyterthemes                0.20.0\n",
      "keras                        2.13.1\n",
      "kiwisolver                   1.4.4\n",
      "knack                        0.10.1\n",
      "langchain                    0.0.235\n",
      "langsmith                    0.0.7\n",
      "lesscpy                      0.15.1\n",
      "libclang                     16.0.0\n",
      "llama-index                  0.7.10\n",
      "lxml                         4.9.2\n",
      "Markdown                     3.4.3\n",
      "MarkupSafe                   2.1.1\n",
      "marshmallow                  3.19.0\n",
      "matplotlib                   3.7.2\n",
      "matplotlib-inline            0.1.6\n",
      "mistune                      0.8.4\n",
      "mlflow-skinny                2.7.1\n",
      "monotonic                    1.6\n",
      "mpmath                       1.3.0\n",
      "msal                         1.23.0\n",
      "msal-extensions              1.0.0\n",
      "msrest                       0.7.1\n",
      "msrestazure                  0.6.4\n",
      "multidict                    6.0.4\n",
      "mypy-extensions              1.0.0\n",
      "nbclassic                    0.5.5\n",
      "nbclient                     0.5.13\n",
      "nbconvert                    6.5.4\n",
      "nbformat                     5.7.0\n",
      "ndg-httpsclient              0.5.1\n",
      "nest-asyncio                 1.5.6\n",
      "nltk                         3.8.1\n",
      "notebook                     6.5.4\n",
      "notebook_shim                0.2.2\n",
      "numexpr                      2.8.4\n",
      "numpy                        1.24.3\n",
      "oauthlib                     3.2.2\n",
      "onnxruntime                  1.15.1\n",
      "openai                       0.27.8\n",
      "openapi-schema-pydantic      1.2.4\n",
      "opencensus                   0.11.3\n",
      "opencensus-context           0.1.3\n",
      "opencensus-ext-azure         1.1.11\n",
      "openpyxl                     3.1.2\n",
      "openrouteservice             2.3.3\n",
      "opt-einsum                   3.3.0\n",
      "overrides                    7.3.1\n",
      "packaging                    23.0\n",
      "pandas                       2.0.3\n",
      "pandocfilters                1.5.0\n",
      "paramiko                     3.3.1\n",
      "parso                        0.8.3\n",
      "pathspec                     0.11.2\n",
      "pdf2image                    1.16.3\n",
      "pickleshare                  0.7.5\n",
      "Pillow                       9.5.0\n",
      "pip                          23.1.2\n",
      "pkginfo                      1.9.6\n",
      "platformdirs                 2.5.2\n",
      "ply                          3.11\n",
      "portalocker                  2.7.0\n",
      "posthog                      3.0.1\n",
      "prometheus-client            0.14.1\n",
      "prompt-toolkit               3.0.36\n",
      "protobuf                     4.23.4\n",
      "psutil                       5.9.0\n",
      "pulsar-client                3.2.0\n",
      "pure-eval                    0.2.2\n",
      "py4j                         0.10.9.7\n",
      "pyasn1                       0.5.0\n",
      "pyasn1-modules               0.3.0\n",
      "pycparser                    2.21\n",
      "pycryptodome                 3.19.0\n",
      "pydantic                     1.10.11\n",
      "pydash                       7.0.5\n",
      "Pygments                     2.15.1\n",
      "PyJWT                        2.8.0\n",
      "PyMuPDFb                     1.23.5\n",
      "PyNaCl                       1.5.0\n",
      "pyOpenSSL                    23.2.0\n",
      "pyparsing                    3.0.9\n",
      "PyPDF2                       3.0.1\n",
      "PyPika                       0.48.9\n",
      "pypng                        0.20220715.0\n",
      "pyreadline3                  3.4.1\n",
      "pyrsistent                   0.18.0\n",
      "PySocks                      1.7.1\n",
      "pyspark                      3.4.1\n",
      "python-dateutil              2.8.2\n",
      "python-docx                  1.0.1\n",
      "python-dotenv                1.0.0\n",
      "python-json-logger           2.0.7\n",
      "python-pptx                  0.6.22\n",
      "pytz                         2023.3\n",
      "pywin32                      305.1\n",
      "pywinpty                     2.0.10\n",
      "PyYAML                       6.0\n",
      "pyzmq                        25.1.0\n",
      "qrcode                       7.4.2\n",
      "regex                        2023.6.3\n",
      "reportlab                    4.0.6\n",
      "requests                     2.31.0\n",
      "requests-oauthlib            1.3.1\n",
      "rfc3339-validator            0.1.4\n",
      "rfc3986-validator            0.1.1\n",
      "rsa                          4.9\n",
      "scikit-learn                 1.3.0\n",
      "scipy                        1.11.1\n",
      "SecretStorage                3.3.3\n",
      "Send2Trash                   1.8.0\n",
      "setuptools                   67.8.0\n",
      "six                          1.16.0\n",
      "smart-open                   6.3.0\n",
      "smmap                        5.0.1\n",
      "sniffio                      1.2.0\n",
      "soupsieve                    2.4.1\n",
      "SQLAlchemy                   2.0.19\n",
      "sqlparse                     0.4.4\n",
      "stack-data                   0.2.0\n",
      "starlette                    0.27.0\n",
      "strictyaml                   1.7.3\n",
      "sympy                        1.12\n",
      "tabulate                     0.9.0\n",
      "tenacity                     8.2.2\n",
      "tensorboard                  2.13.0\n",
      "tensorboard-data-server      0.7.1\n",
      "tensorflow                   2.13.0\n",
      "tensorflow-estimator         2.13.0\n",
      "tensorflow-intel             2.13.0\n",
      "tensorflow-io-gcs-filesystem 0.31.0\n",
      "termcolor                    2.3.0\n",
      "terminado                    0.17.1\n",
      "threadpoolctl                3.2.0\n",
      "tiktoken                     0.4.0\n",
      "tinycss2                     1.2.1\n",
      "tokenizers                   0.13.3\n",
      "tornado                      6.2\n",
      "tqdm                         4.65.0\n",
      "traitlets                    5.7.1\n",
      "typing_extensions            4.6.3\n",
      "typing-inspect               0.9.0\n",
      "tzdata                       2023.3\n",
      "uri-template                 1.3.0\n",
      "urllib3                      1.26.16\n",
      "uvicorn                      0.23.1\n",
      "watchfiles                   0.19.0\n",
      "wcwidth                      0.2.5\n",
      "webcolors                    1.13\n",
      "webencodings                 0.5.1\n",
      "websocket-client             0.58.0\n",
      "websockets                   11.0.3\n",
      "Werkzeug                     3.0.1\n",
      "wheel                        0.38.4\n",
      "wrapt                        1.15.0\n",
      "XlsxWriter                   3.1.9\n",
      "yarl                         1.9.2\n",
      "zipp                         3.17.0\n"
     ]
    }
   ],
   "source": [
    "!pip list"
   ]
  },
  {
   "cell_type": "code",
   "execution_count": null,
   "id": "d4877899",
   "metadata": {},
   "outputs": [],
   "source": []
  }
 ],
 "metadata": {
  "kernelspec": {
   "display_name": "Python 3 (ipykernel)",
   "language": "python",
   "name": "python3"
  },
  "language_info": {
   "codemirror_mode": {
    "name": "ipython",
    "version": 3
   },
   "file_extension": ".py",
   "mimetype": "text/x-python",
   "name": "python",
   "nbconvert_exporter": "python",
   "pygments_lexer": "ipython3",
   "version": "3.10.12"
  }
 },
 "nbformat": 4,
 "nbformat_minor": 5
}
